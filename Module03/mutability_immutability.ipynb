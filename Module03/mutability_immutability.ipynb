{
 "cells": [
  {
   "cell_type": "markdown",
   "id": "bac0eedb",
   "metadata": {},
   "source": [
    "✅ 1. List\n",
    "Ordered, mutable, allows duplicate elements.\n",
    "Defined using square brackets [].\n",
    "\n",
    "Example:\n",
    "my_list = [1, 2, 3, 4, 5]\n",
    "\n",
    "\n",
    "✅ 2. Tuple\n",
    "Ordered, immutable, allows duplicate elements.\n",
    "Defined using parentheses ().\n",
    "\n",
    "Example:\n",
    "my_tuple = (1, 2, 3, 4, 5)\n",
    "\n",
    "\n",
    "✅ 3. Set\n",
    "Unordered, mutable, no duplicate elements.\n",
    "Defined using curly braces {} or the set() function.\n",
    "\n",
    "Example:\n",
    "my_set = {1, 2, 3, 4, 5}\n",
    "\n",
    "✅ 4. Dictionary\n",
    "Unordered, mutable, key-value pairs.\n",
    "Keys must be unique, values can be duplicates.\n",
    "Defined using curly braces with colons {key: value}.\n",
    "\n",
    "Example:\n",
    "my_dict = {'name': 'Shivraj', 'age': 22, 'city': 'Pune'}\n",
    "\n",
    "✅ 5. String (though technically not always seen as a container, it behaves like one)\n",
    "Ordered, immutable, sequence of characters.\n",
    "\n",
    "Example:\n",
    "my_string = \"Hello\"\n",
    "You can iterate over each character in the string.\n",
    "\n",
    "\n",
    "✅ 6. Frozenset\n",
    "Unordered, immutable, no duplicate elements.\n",
    "Similar to a set but cannot be modified.\n",
    "\n",
    "Example:\n",
    "my_frozenset = frozenset([1, 2, 3, 4, 5])\n",
    "\n",
    "\n",
    "✅ 7. Byte and Bytearray\n",
    "Used to handle binary data.\n",
    "bytes is immutable, bytearray is mutable.\n",
    "\n",
    "Example:\n",
    "my_bytes = b\"Hello\"\n",
    "my_bytearray = bytearray([65, 66, 67])\n",
    "\n"
   ]
  },
  {
   "cell_type": "code",
   "execution_count": 33,
   "id": "046bc70c",
   "metadata": {},
   "outputs": [],
   "source": [
    "a = 'shivraj'   # In the memory, a menory is created with reference name a and value 'shivraj'."
   ]
  },
  {
   "cell_type": "code",
   "execution_count": 34,
   "id": "96e8e26f",
   "metadata": {},
   "outputs": [
    {
     "data": {
      "text/plain": [
       "'shivraj'"
      ]
     },
     "execution_count": 34,
     "metadata": {},
     "output_type": "execute_result"
    }
   ],
   "source": [
    "a"
   ]
  },
  {
   "cell_type": "code",
   "execution_count": 35,
   "id": "5a80f18b",
   "metadata": {},
   "outputs": [
    {
     "data": {
      "text/plain": [
       "'i'"
      ]
     },
     "execution_count": 35,
     "metadata": {},
     "output_type": "execute_result"
    }
   ],
   "source": [
    "a[2]"
   ]
  },
  {
   "cell_type": "code",
   "execution_count": 36,
   "id": "8fd1e917",
   "metadata": {},
   "outputs": [
    {
     "data": {
      "text/plain": [
       "'hivr'"
      ]
     },
     "execution_count": 36,
     "metadata": {},
     "output_type": "execute_result"
    }
   ],
   "source": [
    "a[1:5] # the syntax is string[start:end]."
   ]
  },
  {
   "cell_type": "code",
   "execution_count": 37,
   "id": "be317a12",
   "metadata": {},
   "outputs": [
    {
     "data": {
      "text/plain": [
       "'shiv'"
      ]
     },
     "execution_count": 37,
     "metadata": {},
     "output_type": "execute_result"
    }
   ],
   "source": [
    "a[:4]"
   ]
  },
  {
   "cell_type": "code",
   "execution_count": 38,
   "id": "e349a153",
   "metadata": {},
   "outputs": [
    {
     "data": {
      "text/plain": [
       "'raj'"
      ]
     },
     "execution_count": 38,
     "metadata": {},
     "output_type": "execute_result"
    }
   ],
   "source": [
    "a[4:]"
   ]
  },
  {
   "cell_type": "code",
   "execution_count": 39,
   "id": "8a7bafa0",
   "metadata": {},
   "outputs": [
    {
     "data": {
      "text/plain": [
       "'shivra'"
      ]
     },
     "execution_count": 39,
     "metadata": {},
     "output_type": "execute_result"
    }
   ],
   "source": [
    "a[:-1]"
   ]
  },
  {
   "cell_type": "code",
   "execution_count": 40,
   "id": "9483b466",
   "metadata": {},
   "outputs": [
    {
     "name": "stdout",
     "output_type": "stream",
     "text": [
      "shi\n"
     ]
    }
   ],
   "source": [
    "print(a[:-4])"
   ]
  },
  {
   "cell_type": "code",
   "execution_count": 41,
   "id": "a0f63a5c",
   "metadata": {},
   "outputs": [
    {
     "data": {
      "text/plain": [
       "'shiv'"
      ]
     },
     "execution_count": 41,
     "metadata": {},
     "output_type": "execute_result"
    }
   ],
   "source": [
    "a[:4]"
   ]
  },
  {
   "cell_type": "code",
   "execution_count": 42,
   "id": "9ea3d9df",
   "metadata": {},
   "outputs": [],
   "source": [
    "my_bytes = b\"Hello\""
   ]
  },
  {
   "cell_type": "code",
   "execution_count": 43,
   "id": "d91a285e",
   "metadata": {},
   "outputs": [],
   "source": [
    "my_bytearray = bytearray([65, 66, 67])"
   ]
  },
  {
   "cell_type": "code",
   "execution_count": 44,
   "id": "df189818",
   "metadata": {},
   "outputs": [
    {
     "data": {
      "text/plain": [
       "b'Hello'"
      ]
     },
     "execution_count": 44,
     "metadata": {},
     "output_type": "execute_result"
    }
   ],
   "source": [
    "my_bytes"
   ]
  },
  {
   "cell_type": "code",
   "execution_count": 46,
   "id": "4b4c75f0",
   "metadata": {},
   "outputs": [
    {
     "data": {
      "text/plain": [
       "66"
      ]
     },
     "execution_count": 46,
     "metadata": {},
     "output_type": "execute_result"
    }
   ],
   "source": [
    "my_bytearray[1]"
   ]
  },
  {
   "cell_type": "code",
   "execution_count": 49,
   "id": "4cd61ab5",
   "metadata": {},
   "outputs": [],
   "source": [
    "# another types of data container\n",
    "\n",
    "list=[1,2,3,4,3+5j,True,'shivraj']"
   ]
  },
  {
   "cell_type": "code",
   "execution_count": 50,
   "id": "4d5d4a71",
   "metadata": {},
   "outputs": [
    {
     "data": {
      "text/plain": [
       "[1, 2, 3, 4, (3+5j), True, 'shivraj']"
      ]
     },
     "execution_count": 50,
     "metadata": {},
     "output_type": "execute_result"
    }
   ],
   "source": [
    "list"
   ]
  },
  {
   "cell_type": "code",
   "execution_count": 51,
   "id": "404bd643",
   "metadata": {},
   "outputs": [
    {
     "data": {
      "text/plain": [
       "(3+5j)"
      ]
     },
     "execution_count": 51,
     "metadata": {},
     "output_type": "execute_result"
    }
   ],
   "source": [
    "list[4]"
   ]
  },
  {
   "cell_type": "code",
   "execution_count": 52,
   "id": "da24f87e",
   "metadata": {},
   "outputs": [
    {
     "data": {
      "text/plain": [
       "2"
      ]
     },
     "execution_count": 52,
     "metadata": {},
     "output_type": "execute_result"
    }
   ],
   "source": [
    "list[1]"
   ]
  },
  {
   "cell_type": "code",
   "execution_count": 53,
   "id": "c1a7fb20",
   "metadata": {},
   "outputs": [
    {
     "data": {
      "text/plain": [
       "list"
      ]
     },
     "execution_count": 53,
     "metadata": {},
     "output_type": "execute_result"
    }
   ],
   "source": [
    "type(list)"
   ]
  },
  {
   "cell_type": "code",
   "execution_count": 54,
   "id": "2d21ac9d",
   "metadata": {},
   "outputs": [
    {
     "data": {
      "text/plain": [
       "4"
      ]
     },
     "execution_count": 54,
     "metadata": {},
     "output_type": "execute_result"
    }
   ],
   "source": [
    "list[-4]"
   ]
  },
  {
   "cell_type": "code",
   "execution_count": 55,
   "id": "aefe9673",
   "metadata": {},
   "outputs": [
    {
     "data": {
      "text/plain": [
       "1"
      ]
     },
     "execution_count": 55,
     "metadata": {},
     "output_type": "execute_result"
    }
   ],
   "source": [
    "list[-0]"
   ]
  },
  {
   "cell_type": "code",
   "execution_count": 56,
   "id": "d125ac84",
   "metadata": {},
   "outputs": [
    {
     "data": {
      "text/plain": [
       "7"
      ]
     },
     "execution_count": 56,
     "metadata": {},
     "output_type": "execute_result"
    }
   ],
   "source": [
    "len(list)"
   ]
  },
  {
   "cell_type": "code",
   "execution_count": 58,
   "id": "581a4ef6",
   "metadata": {},
   "outputs": [
    {
     "data": {
      "text/plain": [
       "'shivraj'"
      ]
     },
     "execution_count": 58,
     "metadata": {},
     "output_type": "execute_result"
    }
   ],
   "source": [
    "list[6]"
   ]
  },
  {
   "cell_type": "code",
   "execution_count": 59,
   "id": "a8df81d7",
   "metadata": {},
   "outputs": [],
   "source": [
    "list[6]='M.shivraj' "
   ]
  },
  {
   "cell_type": "code",
   "execution_count": 60,
   "id": "e75cd661",
   "metadata": {},
   "outputs": [
    {
     "data": {
      "text/plain": [
       "[1, 2, 3, 4, (3+5j), True, 'M.shivraj']"
      ]
     },
     "execution_count": 60,
     "metadata": {},
     "output_type": "execute_result"
    }
   ],
   "source": [
    "list"
   ]
  },
  {
   "cell_type": "code",
   "execution_count": null,
   "id": "1563732a",
   "metadata": {},
   "outputs": [],
   "source": [
    "# list is a mutable data type. whose value can be changed after creation. support item assignment."
   ]
  },
  {
   "cell_type": "code",
   "execution_count": null,
   "id": "8fa66a79",
   "metadata": {},
   "outputs": [],
   "source": []
  }
 ],
 "metadata": {
  "kernelspec": {
   "display_name": "base",
   "language": "python",
   "name": "python3"
  },
  "language_info": {
   "codemirror_mode": {
    "name": "ipython",
    "version": 3
   },
   "file_extension": ".py",
   "mimetype": "text/x-python",
   "name": "python",
   "nbconvert_exporter": "python",
   "pygments_lexer": "ipython3",
   "version": "3.13.5"
  }
 },
 "nbformat": 4,
 "nbformat_minor": 5
}
